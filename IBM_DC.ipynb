{
  "metadata": {
    "kernelspec": {
      "name": ""
    },
    "language_info": {
      "name": ""
    },
    "colab": {
      "provenance": []
    }
  },
  "nbformat_minor": 0,
  "nbformat": 4,
  "cells": [
    {
      "cell_type": "markdown",
      "source": [
        "# Data Science Tools and Ecosystem"
      ],
      "metadata": {
        "id": "B3JpyTb-aa8v"
      }
    },
    {
      "cell_type": "markdown",
      "source": [
        "# In this notebook, Data Science Tools and Ecosystem are summarized."
      ],
      "metadata": {
        "id": "KBih3bN4aa8w"
      }
    },
    {
      "cell_type": "markdown",
      "source": [
        "# Objectives:\n",
        "\n",
        "- Popular languages for Data Science\n",
        "- Common libraries used in Data Science\n",
        "- Data Science Tools\n",
        "- Create a code cell to multiply and add numbers\n",
        "- code cell to convert minutes to hours"
      ],
      "metadata": {
        "id": "GZRMNKOyaa8x"
      }
    },
    {
      "cell_type": "markdown",
      "source": [
        "# Some of the popular languages that Data Scientists use are:\n",
        "# - Python\n",
        "# - R\n",
        "# - SQL\n",
        "# - Julia"
      ],
      "metadata": {
        "id": "FC8yzQ82aa8x"
      }
    },
    {
      "cell_type": "markdown",
      "source": [
        "# Some of the commonly used libraries used by Data Scientists include:\n",
        "# - Pandas\n",
        "# - NumPy\n",
        "# - Matplotlib\n",
        "# - Scikit-learn"
      ],
      "metadata": {
        "id": "BTHrRZ1raa8y"
      }
    },
    {
      "cell_type": "markdown",
      "source": [
        "# Data Science Tools\n",
        "\n",
        "| Data Science Tools |\n",
        "|--------------------|\n",
        "| Jupyter Notebook   |\n",
        "| RStudio            |\n",
        "| Apache             |\n",
        "\n"
      ],
      "metadata": {
        "id": "U-62hW9Maa8y"
      }
    },
    {
      "cell_type": "markdown",
      "source": [
        "# Below are a few examples of evaluating arithmetic expressions in Python."
      ],
      "metadata": {
        "id": "31qUJXCOaa8y"
      }
    },
    {
      "cell_type": "code",
      "source": [
        "# This a simple arithmetic expression to mutiply then add integers\n",
        "(3*4)+5"
      ],
      "metadata": {
        "colab": {
          "base_uri": "https://localhost:8080/"
        },
        "id": "l9HLWANvakRi",
        "outputId": "8a409642-90c0-46bd-d77a-66638a0f7e72"
      },
      "execution_count": 2,
      "outputs": [
        {
          "output_type": "execute_result",
          "data": {
            "text/plain": [
              "17"
            ]
          },
          "metadata": {},
          "execution_count": 2
        }
      ]
    },
    {
      "cell_type": "code",
      "source": [
        "# This will convert 200 minutes to hours by diving by 60\n",
        "200 / 60"
      ],
      "metadata": {
        "trusted": true,
        "colab": {
          "base_uri": "https://localhost:8080/"
        },
        "id": "Pw4oAOCLaa8y",
        "outputId": "cb1c1b5b-088a-4080-abbc-f86256646740"
      },
      "outputs": [
        {
          "output_type": "execute_result",
          "data": {
            "text/plain": [
              "3.3333333333333335"
            ]
          },
          "metadata": {},
          "execution_count": 1
        }
      ],
      "execution_count": 1
    },
    {
      "cell_type": "markdown",
      "source": [
        "## Author\n",
        "# ALFREDO VIDAL FORT"
      ],
      "metadata": {
        "id": "Itz-bXviajO2"
      }
    }
  ]
}